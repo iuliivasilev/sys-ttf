{
 "cells": [
  {
   "cell_type": "code",
   "execution_count": 1,
   "id": "7723652b",
   "metadata": {},
   "outputs": [],
   "source": [
    "import pandas as pd\n",
    "import numpy as np\n",
    "\n",
    "import matplotlib.pyplot as plt\n",
    "import seaborn as sns"
   ]
  },
  {
   "cell_type": "code",
   "execution_count": 102,
   "id": "b521747e",
   "metadata": {},
   "outputs": [
    {
     "data": {
      "text/html": [
       "<div>\n",
       "<style scoped>\n",
       "    .dataframe tbody tr th:only-of-type {\n",
       "        vertical-align: middle;\n",
       "    }\n",
       "\n",
       "    .dataframe tbody tr th {\n",
       "        vertical-align: top;\n",
       "    }\n",
       "\n",
       "    .dataframe thead th {\n",
       "        text-align: right;\n",
       "    }\n",
       "</style>\n",
       "<table border=\"1\" class=\"dataframe\">\n",
       "  <thead>\n",
       "    <tr style=\"text-align: right;\">\n",
       "      <th></th>\n",
       "      <th>AGE_AT_DIAGNOSIS</th>\n",
       "      <th>BREAST_SURGERY_MASTECTOMY</th>\n",
       "      <th>CELLULARITY</th>\n",
       "      <th>CHEMOTHERAPY</th>\n",
       "      <th>CLAUDIN_SUBTYPE</th>\n",
       "      <th>COHORT</th>\n",
       "      <th>ER_IHC_POS</th>\n",
       "      <th>HER2_SNP6</th>\n",
       "      <th>HISTOLOGICAL_SUBTYPE</th>\n",
       "      <th>HORMONE_THERAPY</th>\n",
       "      <th>INFERRED_MENOPAUSAL_POST</th>\n",
       "      <th>INFERRED_MENOPAUSAL_STATE</th>\n",
       "      <th>INTCLUST</th>\n",
       "      <th>LATERALITY_LEFT</th>\n",
       "      <th>LYMPH_NODES_EXAMINED_POSITIVE</th>\n",
       "      <th>NPI</th>\n",
       "      <th>RADIO_THERAPY</th>\n",
       "      <th>RFS_RECURRED</th>\n",
       "      <th>THREEGENE</th>\n",
       "    </tr>\n",
       "  </thead>\n",
       "  <tbody>\n",
       "    <tr>\n",
       "      <th>0</th>\n",
       "      <td>75.65</td>\n",
       "      <td>True</td>\n",
       "      <td>NaN</td>\n",
       "      <td>False</td>\n",
       "      <td>claudin-low</td>\n",
       "      <td>1.0</td>\n",
       "      <td>True</td>\n",
       "      <td>NEUTRAL</td>\n",
       "      <td>Ductal/NST</td>\n",
       "      <td>True</td>\n",
       "      <td>True</td>\n",
       "      <td>Post</td>\n",
       "      <td>4ER+</td>\n",
       "      <td>False</td>\n",
       "      <td>10.0</td>\n",
       "      <td>6.044</td>\n",
       "      <td>True</td>\n",
       "      <td>False</td>\n",
       "      <td>ER-/HER2-</td>\n",
       "    </tr>\n",
       "    <tr>\n",
       "      <th>1</th>\n",
       "      <td>43.19</td>\n",
       "      <td>False</td>\n",
       "      <td>2.0</td>\n",
       "      <td>False</td>\n",
       "      <td>LumA</td>\n",
       "      <td>1.0</td>\n",
       "      <td>True</td>\n",
       "      <td>NEUTRAL</td>\n",
       "      <td>Ductal/NST</td>\n",
       "      <td>True</td>\n",
       "      <td>False</td>\n",
       "      <td>Pre</td>\n",
       "      <td>4ER+</td>\n",
       "      <td>False</td>\n",
       "      <td>0.0</td>\n",
       "      <td>4.020</td>\n",
       "      <td>True</td>\n",
       "      <td>False</td>\n",
       "      <td>ER+/HER2- High Prolif</td>\n",
       "    </tr>\n",
       "    <tr>\n",
       "      <th>2</th>\n",
       "      <td>48.87</td>\n",
       "      <td>True</td>\n",
       "      <td>2.0</td>\n",
       "      <td>True</td>\n",
       "      <td>LumB</td>\n",
       "      <td>1.0</td>\n",
       "      <td>True</td>\n",
       "      <td>NEUTRAL</td>\n",
       "      <td>Ductal/NST</td>\n",
       "      <td>True</td>\n",
       "      <td>False</td>\n",
       "      <td>Pre</td>\n",
       "      <td>3</td>\n",
       "      <td>False</td>\n",
       "      <td>1.0</td>\n",
       "      <td>4.030</td>\n",
       "      <td>False</td>\n",
       "      <td>True</td>\n",
       "      <td>NaN</td>\n",
       "    </tr>\n",
       "    <tr>\n",
       "      <th>3</th>\n",
       "      <td>47.68</td>\n",
       "      <td>True</td>\n",
       "      <td>1.0</td>\n",
       "      <td>True</td>\n",
       "      <td>LumB</td>\n",
       "      <td>1.0</td>\n",
       "      <td>True</td>\n",
       "      <td>NEUTRAL</td>\n",
       "      <td>Mixed</td>\n",
       "      <td>True</td>\n",
       "      <td>False</td>\n",
       "      <td>Pre</td>\n",
       "      <td>9</td>\n",
       "      <td>False</td>\n",
       "      <td>3.0</td>\n",
       "      <td>4.050</td>\n",
       "      <td>True</td>\n",
       "      <td>False</td>\n",
       "      <td>NaN</td>\n",
       "    </tr>\n",
       "    <tr>\n",
       "      <th>4</th>\n",
       "      <td>76.97</td>\n",
       "      <td>True</td>\n",
       "      <td>2.0</td>\n",
       "      <td>True</td>\n",
       "      <td>LumB</td>\n",
       "      <td>1.0</td>\n",
       "      <td>True</td>\n",
       "      <td>NEUTRAL</td>\n",
       "      <td>Mixed</td>\n",
       "      <td>True</td>\n",
       "      <td>True</td>\n",
       "      <td>Post</td>\n",
       "      <td>9</td>\n",
       "      <td>False</td>\n",
       "      <td>8.0</td>\n",
       "      <td>6.080</td>\n",
       "      <td>True</td>\n",
       "      <td>True</td>\n",
       "      <td>ER+/HER2- High Prolif</td>\n",
       "    </tr>\n",
       "    <tr>\n",
       "      <th>...</th>\n",
       "      <td>...</td>\n",
       "      <td>...</td>\n",
       "      <td>...</td>\n",
       "      <td>...</td>\n",
       "      <td>...</td>\n",
       "      <td>...</td>\n",
       "      <td>...</td>\n",
       "      <td>...</td>\n",
       "      <td>...</td>\n",
       "      <td>...</td>\n",
       "      <td>...</td>\n",
       "      <td>...</td>\n",
       "      <td>...</td>\n",
       "      <td>...</td>\n",
       "      <td>...</td>\n",
       "      <td>...</td>\n",
       "      <td>...</td>\n",
       "      <td>...</td>\n",
       "      <td>...</td>\n",
       "    </tr>\n",
       "    <tr>\n",
       "      <th>1976</th>\n",
       "      <td>43.10</td>\n",
       "      <td>False</td>\n",
       "      <td>2.0</td>\n",
       "      <td>False</td>\n",
       "      <td>LumA</td>\n",
       "      <td>4.0</td>\n",
       "      <td>True</td>\n",
       "      <td>NEUTRAL</td>\n",
       "      <td>Lobular</td>\n",
       "      <td>True</td>\n",
       "      <td>False</td>\n",
       "      <td>Pre</td>\n",
       "      <td>3</td>\n",
       "      <td>False</td>\n",
       "      <td>1.0</td>\n",
       "      <td>5.050</td>\n",
       "      <td>True</td>\n",
       "      <td>False</td>\n",
       "      <td>ER+/HER2- Low Prolif</td>\n",
       "    </tr>\n",
       "    <tr>\n",
       "      <th>1977</th>\n",
       "      <td>42.88</td>\n",
       "      <td>True</td>\n",
       "      <td>2.0</td>\n",
       "      <td>False</td>\n",
       "      <td>LumB</td>\n",
       "      <td>4.0</td>\n",
       "      <td>True</td>\n",
       "      <td>GAIN</td>\n",
       "      <td>Ductal/NST</td>\n",
       "      <td>False</td>\n",
       "      <td>False</td>\n",
       "      <td>Pre</td>\n",
       "      <td>5</td>\n",
       "      <td>NaN</td>\n",
       "      <td>1.0</td>\n",
       "      <td>5.040</td>\n",
       "      <td>True</td>\n",
       "      <td>True</td>\n",
       "      <td>NaN</td>\n",
       "    </tr>\n",
       "    <tr>\n",
       "      <th>1978</th>\n",
       "      <td>62.90</td>\n",
       "      <td>True</td>\n",
       "      <td>2.0</td>\n",
       "      <td>False</td>\n",
       "      <td>LumB</td>\n",
       "      <td>4.0</td>\n",
       "      <td>True</td>\n",
       "      <td>NEUTRAL</td>\n",
       "      <td>Ductal/NST</td>\n",
       "      <td>True</td>\n",
       "      <td>True</td>\n",
       "      <td>Post</td>\n",
       "      <td>1</td>\n",
       "      <td>True</td>\n",
       "      <td>45.0</td>\n",
       "      <td>6.050</td>\n",
       "      <td>True</td>\n",
       "      <td>True</td>\n",
       "      <td>NaN</td>\n",
       "    </tr>\n",
       "    <tr>\n",
       "      <th>1979</th>\n",
       "      <td>61.16</td>\n",
       "      <td>True</td>\n",
       "      <td>1.0</td>\n",
       "      <td>False</td>\n",
       "      <td>LumB</td>\n",
       "      <td>4.0</td>\n",
       "      <td>True</td>\n",
       "      <td>NEUTRAL</td>\n",
       "      <td>Ductal/NST</td>\n",
       "      <td>True</td>\n",
       "      <td>True</td>\n",
       "      <td>Post</td>\n",
       "      <td>1</td>\n",
       "      <td>NaN</td>\n",
       "      <td>12.0</td>\n",
       "      <td>5.050</td>\n",
       "      <td>False</td>\n",
       "      <td>False</td>\n",
       "      <td>ER+/HER2- High Prolif</td>\n",
       "    </tr>\n",
       "    <tr>\n",
       "      <th>1980</th>\n",
       "      <td>60.02</td>\n",
       "      <td>False</td>\n",
       "      <td>2.0</td>\n",
       "      <td>False</td>\n",
       "      <td>LumB</td>\n",
       "      <td>4.0</td>\n",
       "      <td>True</td>\n",
       "      <td>NEUTRAL</td>\n",
       "      <td>Ductal/NST</td>\n",
       "      <td>True</td>\n",
       "      <td>True</td>\n",
       "      <td>Post</td>\n",
       "      <td>10</td>\n",
       "      <td>NaN</td>\n",
       "      <td>1.0</td>\n",
       "      <td>5.040</td>\n",
       "      <td>True</td>\n",
       "      <td>False</td>\n",
       "      <td>ER+/HER2- High Prolif</td>\n",
       "    </tr>\n",
       "  </tbody>\n",
       "</table>\n",
       "<p>1981 rows × 19 columns</p>\n",
       "</div>"
      ],
      "text/plain": [
       "      AGE_AT_DIAGNOSIS BREAST_SURGERY_MASTECTOMY  CELLULARITY CHEMOTHERAPY  \\\n",
       "0                75.65                      True          NaN        False   \n",
       "1                43.19                     False          2.0        False   \n",
       "2                48.87                      True          2.0         True   \n",
       "3                47.68                      True          1.0         True   \n",
       "4                76.97                      True          2.0         True   \n",
       "...                ...                       ...          ...          ...   \n",
       "1976             43.10                     False          2.0        False   \n",
       "1977             42.88                      True          2.0        False   \n",
       "1978             62.90                      True          2.0        False   \n",
       "1979             61.16                      True          1.0        False   \n",
       "1980             60.02                     False          2.0        False   \n",
       "\n",
       "     CLAUDIN_SUBTYPE  COHORT ER_IHC_POS HER2_SNP6 HISTOLOGICAL_SUBTYPE  \\\n",
       "0        claudin-low     1.0       True   NEUTRAL           Ductal/NST   \n",
       "1               LumA     1.0       True   NEUTRAL           Ductal/NST   \n",
       "2               LumB     1.0       True   NEUTRAL           Ductal/NST   \n",
       "3               LumB     1.0       True   NEUTRAL                Mixed   \n",
       "4               LumB     1.0       True   NEUTRAL                Mixed   \n",
       "...              ...     ...        ...       ...                  ...   \n",
       "1976            LumA     4.0       True   NEUTRAL              Lobular   \n",
       "1977            LumB     4.0       True      GAIN           Ductal/NST   \n",
       "1978            LumB     4.0       True   NEUTRAL           Ductal/NST   \n",
       "1979            LumB     4.0       True   NEUTRAL           Ductal/NST   \n",
       "1980            LumB     4.0       True   NEUTRAL           Ductal/NST   \n",
       "\n",
       "     HORMONE_THERAPY INFERRED_MENOPAUSAL_POST INFERRED_MENOPAUSAL_STATE  \\\n",
       "0               True                     True                      Post   \n",
       "1               True                    False                       Pre   \n",
       "2               True                    False                       Pre   \n",
       "3               True                    False                       Pre   \n",
       "4               True                     True                      Post   \n",
       "...              ...                      ...                       ...   \n",
       "1976            True                    False                       Pre   \n",
       "1977           False                    False                       Pre   \n",
       "1978            True                     True                      Post   \n",
       "1979            True                     True                      Post   \n",
       "1980            True                     True                      Post   \n",
       "\n",
       "     INTCLUST LATERALITY_LEFT  LYMPH_NODES_EXAMINED_POSITIVE    NPI  \\\n",
       "0        4ER+           False                           10.0  6.044   \n",
       "1        4ER+           False                            0.0  4.020   \n",
       "2           3           False                            1.0  4.030   \n",
       "3           9           False                            3.0  4.050   \n",
       "4           9           False                            8.0  6.080   \n",
       "...       ...             ...                            ...    ...   \n",
       "1976        3           False                            1.0  5.050   \n",
       "1977        5             NaN                            1.0  5.040   \n",
       "1978        1            True                           45.0  6.050   \n",
       "1979        1             NaN                           12.0  5.050   \n",
       "1980       10             NaN                            1.0  5.040   \n",
       "\n",
       "     RADIO_THERAPY RFS_RECURRED              THREEGENE  \n",
       "0             True        False              ER-/HER2-  \n",
       "1             True        False  ER+/HER2- High Prolif  \n",
       "2            False         True                    NaN  \n",
       "3             True        False                    NaN  \n",
       "4             True         True  ER+/HER2- High Prolif  \n",
       "...            ...          ...                    ...  \n",
       "1976          True        False   ER+/HER2- Low Prolif  \n",
       "1977          True         True                    NaN  \n",
       "1978          True         True                    NaN  \n",
       "1979         False        False  ER+/HER2- High Prolif  \n",
       "1980          True        False  ER+/HER2- High Prolif  \n",
       "\n",
       "[1981 rows x 19 columns]"
      ]
     },
     "execution_count": 102,
     "metadata": {},
     "output_type": "execute_result"
    }
   ],
   "source": [
    "import survivors.datasets as ds\n",
    "\n",
    "X, y, features, categ, sch_nan = ds.load_metabric_dataset()\n",
    "bins_HO = cnt.get_bins(time=y[cnt.TIME_NAME], cens=y[cnt.CENS_NAME])\n",
    "\n",
    "X"
   ]
  },
  {
   "cell_type": "code",
   "execution_count": 107,
   "id": "8af048f8",
   "metadata": {},
   "outputs": [],
   "source": [
    "df_last = pd.read_csv(r\"D:\\SurvivalAnalysis\\TimeVarying\\Backblaze\\grid_search_last.csv\")\n",
    "df_agg = pd.read_csv(r\"D:\\SurvivalAnalysis\\TimeVarying\\Backblaze\\grid_search_prob_dist.csv\")"
   ]
  },
  {
   "cell_type": "code",
   "execution_count": 139,
   "id": "1a6199cc",
   "metadata": {},
   "outputs": [
    {
     "data": {
      "text/html": [
       "<div>\n",
       "<style scoped>\n",
       "    .dataframe tbody tr th:only-of-type {\n",
       "        vertical-align: middle;\n",
       "    }\n",
       "\n",
       "    .dataframe tbody tr th {\n",
       "        vertical-align: top;\n",
       "    }\n",
       "\n",
       "    .dataframe thead th {\n",
       "        text-align: right;\n",
       "    }\n",
       "</style>\n",
       "<table border=\"1\" class=\"dataframe\">\n",
       "  <thead>\n",
       "    <tr style=\"text-align: right;\">\n",
       "      <th></th>\n",
       "      <th>train_samples</th>\n",
       "      <th>test_samples</th>\n",
       "      <th>l1_ratio</th>\n",
       "      <th>penalizer</th>\n",
       "      <th>p_val</th>\n",
       "      <th>test_statistic</th>\n",
       "      <th>ci_train_same_size</th>\n",
       "      <th>ci_train_max_size</th>\n",
       "      <th>ci_test</th>\n",
       "      <th>ibs_train_same_size</th>\n",
       "      <th>ibs_train_max_size</th>\n",
       "      <th>ibs_test</th>\n",
       "      <th>train_time</th>\n",
       "      <th>test_time</th>\n",
       "      <th>error</th>\n",
       "      <th>error_text</th>\n",
       "      <th>model_id</th>\n",
       "    </tr>\n",
       "  </thead>\n",
       "  <tbody>\n",
       "    <tr>\n",
       "      <th>0</th>\n",
       "      <td>1</td>\n",
       "      <td>1</td>\n",
       "      <td>0.001000</td>\n",
       "      <td>0.001000</td>\n",
       "      <td>1.0</td>\n",
       "      <td>-1.504213e+08</td>\n",
       "      <td>0.500000</td>\n",
       "      <td>0.500000</td>\n",
       "      <td>0.500000</td>\n",
       "      <td>0.182949</td>\n",
       "      <td>0.965979</td>\n",
       "      <td>0.186648</td>\n",
       "      <td>66.344865</td>\n",
       "      <td>21.558433</td>\n",
       "      <td>0</td>\n",
       "      <td>NaN</td>\n",
       "      <td>1</td>\n",
       "    </tr>\n",
       "    <tr>\n",
       "      <th>1</th>\n",
       "      <td>1</td>\n",
       "      <td>10</td>\n",
       "      <td>0.001000</td>\n",
       "      <td>0.001000</td>\n",
       "      <td>1.0</td>\n",
       "      <td>-1.504213e+08</td>\n",
       "      <td>0.500000</td>\n",
       "      <td>0.500000</td>\n",
       "      <td>0.500000</td>\n",
       "      <td>0.182949</td>\n",
       "      <td>0.965979</td>\n",
       "      <td>0.857439</td>\n",
       "      <td>66.344865</td>\n",
       "      <td>22.789005</td>\n",
       "      <td>0</td>\n",
       "      <td>NaN</td>\n",
       "      <td>1</td>\n",
       "    </tr>\n",
       "    <tr>\n",
       "      <th>2</th>\n",
       "      <td>1</td>\n",
       "      <td>25</td>\n",
       "      <td>0.001000</td>\n",
       "      <td>0.001000</td>\n",
       "      <td>1.0</td>\n",
       "      <td>-1.504213e+08</td>\n",
       "      <td>0.500000</td>\n",
       "      <td>0.500000</td>\n",
       "      <td>0.500000</td>\n",
       "      <td>0.182949</td>\n",
       "      <td>0.965979</td>\n",
       "      <td>0.936613</td>\n",
       "      <td>66.344865</td>\n",
       "      <td>24.704413</td>\n",
       "      <td>0</td>\n",
       "      <td>NaN</td>\n",
       "      <td>1</td>\n",
       "    </tr>\n",
       "    <tr>\n",
       "      <th>3</th>\n",
       "      <td>1</td>\n",
       "      <td>1</td>\n",
       "      <td>0.001000</td>\n",
       "      <td>0.017783</td>\n",
       "      <td>1.0</td>\n",
       "      <td>-1.204295e+07</td>\n",
       "      <td>0.500000</td>\n",
       "      <td>0.500000</td>\n",
       "      <td>0.500000</td>\n",
       "      <td>0.182949</td>\n",
       "      <td>0.965979</td>\n",
       "      <td>0.186648</td>\n",
       "      <td>71.593402</td>\n",
       "      <td>22.072877</td>\n",
       "      <td>0</td>\n",
       "      <td>NaN</td>\n",
       "      <td>2</td>\n",
       "    </tr>\n",
       "    <tr>\n",
       "      <th>4</th>\n",
       "      <td>1</td>\n",
       "      <td>10</td>\n",
       "      <td>0.001000</td>\n",
       "      <td>0.017783</td>\n",
       "      <td>1.0</td>\n",
       "      <td>-1.204295e+07</td>\n",
       "      <td>0.500000</td>\n",
       "      <td>0.500000</td>\n",
       "      <td>0.500000</td>\n",
       "      <td>0.182949</td>\n",
       "      <td>0.965979</td>\n",
       "      <td>0.857439</td>\n",
       "      <td>71.593402</td>\n",
       "      <td>23.152771</td>\n",
       "      <td>0</td>\n",
       "      <td>NaN</td>\n",
       "      <td>2</td>\n",
       "    </tr>\n",
       "    <tr>\n",
       "      <th>...</th>\n",
       "      <td>...</td>\n",
       "      <td>...</td>\n",
       "      <td>...</td>\n",
       "      <td>...</td>\n",
       "      <td>...</td>\n",
       "      <td>...</td>\n",
       "      <td>...</td>\n",
       "      <td>...</td>\n",
       "      <td>...</td>\n",
       "      <td>...</td>\n",
       "      <td>...</td>\n",
       "      <td>...</td>\n",
       "      <td>...</td>\n",
       "      <td>...</td>\n",
       "      <td>...</td>\n",
       "      <td>...</td>\n",
       "      <td>...</td>\n",
       "    </tr>\n",
       "    <tr>\n",
       "      <th>253</th>\n",
       "      <td>50</td>\n",
       "      <td>10</td>\n",
       "      <td>0.316228</td>\n",
       "      <td>5.623413</td>\n",
       "      <td>1.0</td>\n",
       "      <td>-1.834930e+02</td>\n",
       "      <td>0.835088</td>\n",
       "      <td>0.835088</td>\n",
       "      <td>0.830354</td>\n",
       "      <td>0.779860</td>\n",
       "      <td>0.779860</td>\n",
       "      <td>0.676827</td>\n",
       "      <td>201.332329</td>\n",
       "      <td>102.751042</td>\n",
       "      <td>0</td>\n",
       "      <td>NaN</td>\n",
       "      <td>189</td>\n",
       "    </tr>\n",
       "    <tr>\n",
       "      <th>254</th>\n",
       "      <td>50</td>\n",
       "      <td>25</td>\n",
       "      <td>0.316228</td>\n",
       "      <td>5.623413</td>\n",
       "      <td>1.0</td>\n",
       "      <td>-1.834930e+02</td>\n",
       "      <td>0.835088</td>\n",
       "      <td>0.835088</td>\n",
       "      <td>0.834206</td>\n",
       "      <td>0.779860</td>\n",
       "      <td>0.779860</td>\n",
       "      <td>0.751375</td>\n",
       "      <td>201.332329</td>\n",
       "      <td>106.054954</td>\n",
       "      <td>0</td>\n",
       "      <td>NaN</td>\n",
       "      <td>189</td>\n",
       "    </tr>\n",
       "    <tr>\n",
       "      <th>255</th>\n",
       "      <td>50</td>\n",
       "      <td>1</td>\n",
       "      <td>0.316228</td>\n",
       "      <td>100.000000</td>\n",
       "      <td>1.0</td>\n",
       "      <td>-5.575175e+04</td>\n",
       "      <td>0.835088</td>\n",
       "      <td>0.835088</td>\n",
       "      <td>0.788597</td>\n",
       "      <td>0.779860</td>\n",
       "      <td>0.779860</td>\n",
       "      <td>0.136999</td>\n",
       "      <td>159.166550</td>\n",
       "      <td>99.211278</td>\n",
       "      <td>0</td>\n",
       "      <td>NaN</td>\n",
       "      <td>190</td>\n",
       "    </tr>\n",
       "    <tr>\n",
       "      <th>256</th>\n",
       "      <td>50</td>\n",
       "      <td>10</td>\n",
       "      <td>0.316228</td>\n",
       "      <td>100.000000</td>\n",
       "      <td>1.0</td>\n",
       "      <td>-5.575175e+04</td>\n",
       "      <td>0.835088</td>\n",
       "      <td>0.835088</td>\n",
       "      <td>0.830354</td>\n",
       "      <td>0.779860</td>\n",
       "      <td>0.779860</td>\n",
       "      <td>0.676827</td>\n",
       "      <td>159.166550</td>\n",
       "      <td>101.398912</td>\n",
       "      <td>0</td>\n",
       "      <td>NaN</td>\n",
       "      <td>190</td>\n",
       "    </tr>\n",
       "    <tr>\n",
       "      <th>257</th>\n",
       "      <td>50</td>\n",
       "      <td>25</td>\n",
       "      <td>0.316228</td>\n",
       "      <td>100.000000</td>\n",
       "      <td>1.0</td>\n",
       "      <td>-5.575175e+04</td>\n",
       "      <td>0.835088</td>\n",
       "      <td>0.835088</td>\n",
       "      <td>0.834206</td>\n",
       "      <td>0.779860</td>\n",
       "      <td>0.779860</td>\n",
       "      <td>0.751375</td>\n",
       "      <td>159.166550</td>\n",
       "      <td>105.672598</td>\n",
       "      <td>0</td>\n",
       "      <td>NaN</td>\n",
       "      <td>190</td>\n",
       "    </tr>\n",
       "  </tbody>\n",
       "</table>\n",
       "<p>258 rows × 17 columns</p>\n",
       "</div>"
      ],
      "text/plain": [
       "     train_samples  test_samples  l1_ratio   penalizer  p_val  test_statistic  \\\n",
       "0                1             1  0.001000    0.001000    1.0   -1.504213e+08   \n",
       "1                1            10  0.001000    0.001000    1.0   -1.504213e+08   \n",
       "2                1            25  0.001000    0.001000    1.0   -1.504213e+08   \n",
       "3                1             1  0.001000    0.017783    1.0   -1.204295e+07   \n",
       "4                1            10  0.001000    0.017783    1.0   -1.204295e+07   \n",
       "..             ...           ...       ...         ...    ...             ...   \n",
       "253             50            10  0.316228    5.623413    1.0   -1.834930e+02   \n",
       "254             50            25  0.316228    5.623413    1.0   -1.834930e+02   \n",
       "255             50             1  0.316228  100.000000    1.0   -5.575175e+04   \n",
       "256             50            10  0.316228  100.000000    1.0   -5.575175e+04   \n",
       "257             50            25  0.316228  100.000000    1.0   -5.575175e+04   \n",
       "\n",
       "     ci_train_same_size  ci_train_max_size   ci_test  ibs_train_same_size  \\\n",
       "0              0.500000           0.500000  0.500000             0.182949   \n",
       "1              0.500000           0.500000  0.500000             0.182949   \n",
       "2              0.500000           0.500000  0.500000             0.182949   \n",
       "3              0.500000           0.500000  0.500000             0.182949   \n",
       "4              0.500000           0.500000  0.500000             0.182949   \n",
       "..                  ...                ...       ...                  ...   \n",
       "253            0.835088           0.835088  0.830354             0.779860   \n",
       "254            0.835088           0.835088  0.834206             0.779860   \n",
       "255            0.835088           0.835088  0.788597             0.779860   \n",
       "256            0.835088           0.835088  0.830354             0.779860   \n",
       "257            0.835088           0.835088  0.834206             0.779860   \n",
       "\n",
       "     ibs_train_max_size  ibs_test  train_time   test_time  error  error_text  \\\n",
       "0              0.965979  0.186648   66.344865   21.558433      0         NaN   \n",
       "1              0.965979  0.857439   66.344865   22.789005      0         NaN   \n",
       "2              0.965979  0.936613   66.344865   24.704413      0         NaN   \n",
       "3              0.965979  0.186648   71.593402   22.072877      0         NaN   \n",
       "4              0.965979  0.857439   71.593402   23.152771      0         NaN   \n",
       "..                  ...       ...         ...         ...    ...         ...   \n",
       "253            0.779860  0.676827  201.332329  102.751042      0         NaN   \n",
       "254            0.779860  0.751375  201.332329  106.054954      0         NaN   \n",
       "255            0.779860  0.136999  159.166550   99.211278      0         NaN   \n",
       "256            0.779860  0.676827  159.166550  101.398912      0         NaN   \n",
       "257            0.779860  0.751375  159.166550  105.672598      0         NaN   \n",
       "\n",
       "     model_id  \n",
       "0           1  \n",
       "1           1  \n",
       "2           1  \n",
       "3           2  \n",
       "4           2  \n",
       "..        ...  \n",
       "253       189  \n",
       "254       189  \n",
       "255       190  \n",
       "256       190  \n",
       "257       190  \n",
       "\n",
       "[258 rows x 17 columns]"
      ]
     },
     "execution_count": 139,
     "metadata": {},
     "output_type": "execute_result"
    }
   ],
   "source": [
    "df_last"
   ]
  },
  {
   "cell_type": "code",
   "execution_count": 136,
   "id": "ebe548fb",
   "metadata": {},
   "outputs": [],
   "source": [
    "def prepare_data_for_test(df, id_col='id', time_col='time', event_col='event', mode = 'independent'):\n",
    "    '''\n",
    "    На вход принимает датасет вида id_col, time_col, event_col, признаки\n",
    "    На выходе датафрейм, events, durations\n",
    "    У датафрейма отсечены самые последние наблюдения соответствующие каждому диску\n",
    "    '''\n",
    "    durations = df.groupby(id_col)[time_col].transform('max') - df[time_col]\n",
    "    events = df.groupby(id_col)[event_col].transform('max')[durations != 0]\n",
    "    result_df = df.loc[durations != 0, :]\n",
    "    durations = durations[durations != 0]\n",
    "    if mode=='agg':\n",
    "        last_observ = result_df[time_col] == result_df.groupby(id_col)[time_col].transform('max')\n",
    "        print(last_observ)\n",
    "        events = events[last_observ]\n",
    "        durations = durations[last_observ]\n",
    "    return result_df, events.astype('bool'), durations\n",
    "\n",
    "df = pd.read_csv(r'D:\\SurvivalAnalysis\\TimeVarying\\Backblaze\\Preprocessed\\10_train_preprocessed.csv')\n",
    "result_df, events, durations = prepare_data_for_test(df, mode=\"agg\")"
   ]
  },
  {
   "cell_type": "code",
   "execution_count": 133,
   "id": "b2b0040d",
   "metadata": {},
   "outputs": [
    {
     "data": {
      "text/plain": [
       "17380"
      ]
     },
     "execution_count": 133,
     "metadata": {},
     "output_type": "execute_result"
    }
   ],
   "source": [
    "df.shape[0] - result_df.shape[0]"
   ]
  },
  {
   "cell_type": "code",
   "execution_count": 134,
   "id": "59be9c55",
   "metadata": {},
   "outputs": [
    {
     "data": {
      "text/plain": [
       "17380"
      ]
     },
     "execution_count": 134,
     "metadata": {},
     "output_type": "execute_result"
    }
   ],
   "source": [
    "df.id.nunique()"
   ]
  },
  {
   "cell_type": "code",
   "execution_count": 150,
   "id": "b7364962",
   "metadata": {},
   "outputs": [
    {
     "data": {
      "text/html": [
       "<div>\n",
       "<style scoped>\n",
       "    .dataframe tbody tr th:only-of-type {\n",
       "        vertical-align: middle;\n",
       "    }\n",
       "\n",
       "    .dataframe tbody tr th {\n",
       "        vertical-align: top;\n",
       "    }\n",
       "\n",
       "    .dataframe thead th {\n",
       "        text-align: right;\n",
       "    }\n",
       "</style>\n",
       "<table border=\"1\" class=\"dataframe\">\n",
       "  <thead>\n",
       "    <tr style=\"text-align: right;\">\n",
       "      <th></th>\n",
       "      <th>min</th>\n",
       "      <th>max</th>\n",
       "    </tr>\n",
       "    <tr>\n",
       "      <th>id</th>\n",
       "      <th></th>\n",
       "      <th></th>\n",
       "    </tr>\n",
       "  </thead>\n",
       "  <tbody>\n",
       "    <tr>\n",
       "      <th>0F112CC45</th>\n",
       "      <td>467</td>\n",
       "      <td>472</td>\n",
       "    </tr>\n",
       "    <tr>\n",
       "      <th>13H2B97AS</th>\n",
       "      <td>0</td>\n",
       "      <td>565</td>\n",
       "    </tr>\n",
       "    <tr>\n",
       "      <th>13H32WEAS</th>\n",
       "      <td>0</td>\n",
       "      <td>501</td>\n",
       "    </tr>\n",
       "    <tr>\n",
       "      <th>13H6A21GS</th>\n",
       "      <td>0</td>\n",
       "      <td>568</td>\n",
       "    </tr>\n",
       "    <tr>\n",
       "      <th>13H7X2HAS</th>\n",
       "      <td>0</td>\n",
       "      <td>371</td>\n",
       "    </tr>\n",
       "    <tr>\n",
       "      <th>...</th>\n",
       "      <td>...</td>\n",
       "      <td>...</td>\n",
       "    </tr>\n",
       "    <tr>\n",
       "      <th>ZCH07B90</th>\n",
       "      <td>659</td>\n",
       "      <td>706</td>\n",
       "    </tr>\n",
       "    <tr>\n",
       "      <th>ZCH07CCM</th>\n",
       "      <td>678</td>\n",
       "      <td>694</td>\n",
       "    </tr>\n",
       "    <tr>\n",
       "      <th>ZCH08192</th>\n",
       "      <td>720</td>\n",
       "      <td>720</td>\n",
       "    </tr>\n",
       "    <tr>\n",
       "      <th>ZCH08456</th>\n",
       "      <td>683</td>\n",
       "      <td>709</td>\n",
       "    </tr>\n",
       "    <tr>\n",
       "      <th>ZCH086CR</th>\n",
       "      <td>659</td>\n",
       "      <td>674</td>\n",
       "    </tr>\n",
       "  </tbody>\n",
       "</table>\n",
       "<p>17356 rows × 2 columns</p>\n",
       "</div>"
      ],
      "text/plain": [
       "           min  max\n",
       "id                 \n",
       "0F112CC45  467  472\n",
       "13H2B97AS    0  565\n",
       "13H32WEAS    0  501\n",
       "13H6A21GS    0  568\n",
       "13H7X2HAS    0  371\n",
       "...        ...  ...\n",
       "ZCH07B90   659  706\n",
       "ZCH07CCM   678  694\n",
       "ZCH08192   720  720\n",
       "ZCH08456   683  709\n",
       "ZCH086CR   659  674\n",
       "\n",
       "[17356 rows x 2 columns]"
      ]
     },
     "execution_count": 150,
     "metadata": {},
     "output_type": "execute_result"
    }
   ],
   "source": [
    "result_df.groupby('id')[\"time\"].agg([min, max])"
   ]
  },
  {
   "cell_type": "code",
   "execution_count": 153,
   "id": "63d7d919",
   "metadata": {},
   "outputs": [
    {
     "data": {
      "text/plain": [
       "id\n",
       "0F112CC45                       [467, 468, 469, 470, 471, 472]\n",
       "13H2B97AS     [0, 133, 343, 371, 423, 487, 504, 507, 520, 565]\n",
       "13H32WEAS      [0, 79, 125, 185, 200, 234, 332, 483, 497, 501]\n",
       "13H6A21GS       [0, 49, 94, 133, 171, 236, 239, 372, 384, 568]\n",
       "13H7X2HAS        [0, 8, 81, 168, 182, 193, 239, 345, 361, 371]\n",
       "                                   ...                        \n",
       "ZCH07B90     [659, 664, 672, 674, 681, 682, 686, 699, 700, ...\n",
       "ZCH07CCM     [678, 679, 680, 681, 684, 686, 687, 690, 692, ...\n",
       "ZCH08192                                                 [720]\n",
       "ZCH08456     [683, 687, 691, 692, 694, 695, 696, 697, 706, ...\n",
       "ZCH086CR     [659, 660, 661, 663, 664, 667, 668, 669, 672, ...\n",
       "Name: time, Length: 17356, dtype: object"
      ]
     },
     "execution_count": 153,
     "metadata": {},
     "output_type": "execute_result"
    }
   ],
   "source": [
    "result_df.groupby('id')[\"time\"].agg(list)"
   ]
  },
  {
   "cell_type": "code",
   "execution_count": 164,
   "id": "8e2f9c45",
   "metadata": {},
   "outputs": [
    {
     "data": {
      "text/plain": [
       "0                                                        6\n",
       "1                                                      571\n",
       "2                                                      580\n",
       "3                                                      595\n",
       "4                                                      481\n",
       "                               ...                        \n",
       "17376                                                   17\n",
       "17377                                                    1\n",
       "17378                                                   27\n",
       "17379                                                   16\n",
       "event    0        0\n",
       "1        0\n",
       "2        0\n",
       "3        0\n",
       "4 ...\n",
       "Name: time, Length: 17381, dtype: object"
      ]
     },
     "execution_count": 164,
     "metadata": {},
     "output_type": "execute_result"
    }
   ],
   "source": [
    "df_"
   ]
  },
  {
   "cell_type": "code",
   "execution_count": 165,
   "id": "4169851a",
   "metadata": {},
   "outputs": [
    {
     "data": {
      "text/plain": [
       "<Axes: xlabel='time', ylabel='Density'>"
      ]
     },
     "execution_count": 165,
     "metadata": {},
     "output_type": "execute_result"
    },
    {
     "data": {
      "image/png": "[encoded data removed]",
      "text/plain": [
       "<Figure size 432x288 with 1 Axes>"
      ]
     },
     "metadata": {
      "needs_background": "light"
     },
     "output_type": "display_data"
    }
   ],
   "source": [
    "df_ = pd.DataFrame()\n",
    "df_[\"time\"] = df.groupby('id')[\"time\"].agg(lambda x: x.max() - x.min()).copy().reset_index(drop=True)\n",
    "df_[\"event\"] = df.groupby('id')[\"event\"].agg(max).reset_index(drop=True)\n",
    "sns.kdeplot(df_, x=\"time\", hue=\"event\")"
   ]
  },
  {
   "cell_type": "code",
   "execution_count": 157,
   "id": "ab3ea410",
   "metadata": {},
   "outputs": [
    {
     "data": {
      "text/plain": [
       "<Axes: xlabel='time', ylabel='Density'>"
      ]
     },
     "execution_count": 157,
     "metadata": {},
     "output_type": "execute_result"
    },
    {
     "data": {
      "image/png": "[encoded data removed]",
      "text/plain": [
       "<Figure size 432x288 with 1 Axes>"
      ]
     },
     "metadata": {
      "needs_background": "light"
     },
     "output_type": "display_data"
    }
   ],
   "source": [
    "sns.kdeplot(df[df[\"event\"] == 1], x=\"time\", hue=\"event\")"
   ]
  },
  {
   "cell_type": "code",
   "execution_count": 147,
   "id": "a47a465f",
   "metadata": {},
   "outputs": [
    {
     "data": {
      "text/plain": [
       "array([15040,  2316], dtype=int64)"
      ]
     },
     "execution_count": 147,
     "metadata": {},
     "output_type": "execute_result"
    }
   ],
   "source": [
    "np.bincount(events)"
   ]
  },
  {
   "cell_type": "code",
   "execution_count": 146,
   "id": "93713759",
   "metadata": {},
   "outputs": [
    {
     "data": {
      "text/plain": [
       "<Axes: xlabel='time', ylabel='Density'>"
      ]
     },
     "execution_count": 146,
     "metadata": {},
     "output_type": "execute_result"
    },
    {
     "data": {
      "image/png": "[encoded data removed]",
      "text/plain": [
       "<Figure size 432x288 with 1 Axes>"
      ]
     },
     "metadata": {
      "needs_background": "light"
     },
     "output_type": "display_data"
    }
   ],
   "source": [
    "sns.kdeplot(durations[events==0])\n",
    "sns.kdeplot(durations[events==1])"
   ]
  },
  {
   "cell_type": "code",
   "execution_count": null,
   "id": "24c5fa70",
   "metadata": {},
   "outputs": [],
   "source": []
  },
  {
   "cell_type": "code",
   "execution_count": 98,
   "id": "07b98f5a",
   "metadata": {},
   "outputs": [
    {
     "data": {
      "text/plain": [
       "(0.16637099807550476, 0.6271993787682848)"
      ]
     },
     "execution_count": 98,
     "metadata": {},
     "output_type": "execute_result"
    },
    {
     "data": {
      "image/png": "[encoded data removed]",
      "text/plain": [
       "<Figure size 432x288 with 1 Axes>"
      ]
     },
     "metadata": {
      "needs_background": "light"
     },
     "output_type": "display_data"
    }
   ],
   "source": [
    "from survivors.external.nonparametric import KaplanMeierZeroAfter\n",
    "from survivors import metrics as metr\n",
    "from survivors import constants as cnt\n",
    "\n",
    "class KaplanMeierZeroAfterEmp(KaplanMeierZeroAfter):\n",
    "    def __init__(self, n=2, size=20000, *args, **kwargs):\n",
    "        self.n = n\n",
    "        self.size = size\n",
    "        super().__init__(*args, **kwargs)\n",
    "        \n",
    "    def fit(self, durations, right_censor, weights=None):\n",
    "        self.durs = np.random.choice(durations, size=(self.n, self.size), replace=True).mean(axis=0)\n",
    "        self.events = np.random.choice(right_censor, size=self.size, replace=True)\n",
    "        \n",
    "        self.durs = np.hstack([durations.copy(), self.durs])\n",
    "        self.events = np.hstack([right_censor.copy(), self.events])\n",
    "        super().fit(self.durs, self.events)\n",
    "\n",
    "np.random.seed(42)\n",
    "a = np.random.normal(loc=100, scale=10, size=200)\n",
    "b = np.random.normal(loc=300, scale=10, size=100)\n",
    "\n",
    "time = np.hstack([a, b])\n",
    "cens =  np.ones(time.shape[0])\n",
    "\n",
    "bins_HO = np.arange(0, int(time.max()))\n",
    "y_v = cnt.get_y(cens=cens, time=time)\n",
    "\n",
    "km = KaplanMeierZeroAfterEmp(n=2)\n",
    "km.fit(time, cens)\n",
    "\n",
    "sf_ = km.survival_function_at_times(bins_HO)\n",
    "plt.step(bins_HO, sf_)\n",
    "ibs_sf = metr.ibs_WW(y_v, y_v, np.repeat(sf_[np.newaxis, :], y_v.shape[0], axis=0), bins_HO)\n",
    "auprc_sf = metr.auprc(y_v, y_v, np.repeat(sf_[np.newaxis, :], y_v.shape[0], axis=0), bins_HO)\n",
    "ibs_sf, auprc_sf"
   ]
  },
  {
   "cell_type": "code",
   "execution_count": 97,
   "id": "62339164",
   "metadata": {},
   "outputs": [
    {
     "data": {
      "text/plain": [
       "(0.14147469502143092, 0.6532636460258164)"
      ]
     },
     "execution_count": 97,
     "metadata": {},
     "output_type": "execute_result"
    },
    {
     "data": {
      "image/png": "[encoded data removed]",
      "text/plain": [
       "<Figure size 432x288 with 1 Axes>"
      ]
     },
     "metadata": {
      "needs_background": "light"
     },
     "output_type": "display_data"
    }
   ],
   "source": [
    "plt.step(bins_HO, sf_)\n",
    "ibs_sf, auprc_sf"
   ]
  },
  {
   "cell_type": "code",
   "execution_count": null,
   "id": "14820ab1",
   "metadata": {},
   "outputs": [],
   "source": []
  },
  {
   "cell_type": "code",
   "execution_count": 29,
   "id": "2c37f6b5",
   "metadata": {},
   "outputs": [
    {
     "data": {
      "text/plain": [
       "(0.13581580687830686, 0.8479011112233428)"
      ]
     },
     "execution_count": 29,
     "metadata": {},
     "output_type": "execute_result"
    }
   ],
   "source": [
    "ibs_sf, auprc_sf"
   ]
  },
  {
   "cell_type": "code",
   "execution_count": 21,
   "id": "4b7b1eca",
   "metadata": {},
   "outputs": [
    {
     "data": {
      "text/plain": [
       "(0.13581580687830686, 0.8479011112233428)"
      ]
     },
     "execution_count": 21,
     "metadata": {},
     "output_type": "execute_result"
    }
   ],
   "source": [
    "ibs_sf, auprc_sf"
   ]
  },
  {
   "cell_type": "markdown",
   "id": "d7a5ff02",
   "metadata": {},
   "source": [
    "https://zenodo.org/records/8196385/files/HDFS_v1.zip?download=1"
   ]
  },
  {
   "cell_type": "code",
   "execution_count": 7,
   "id": "dfa76fcb",
   "metadata": {},
   "outputs": [],
   "source": [
    "data = np.load('./HDFS_v1/preprocessed/HDFS.npz', allow_pickle=True)"
   ]
  },
  {
   "cell_type": "code",
   "execution_count": 10,
   "id": "fc4beb7b",
   "metadata": {},
   "outputs": [
    {
     "name": "stdout",
     "output_type": "stream",
     "text": [
      "x_data\n",
      "[list(['E5', 'E5', 'E5', 'E22', 'E11', 'E9', 'E11', 'E11', 'E9', 'E9', 'E26', 'E26', 'E26'])\n",
      " list(['E5', 'E22', 'E5', 'E5', 'E11', 'E9', 'E11', 'E9', 'E11', 'E9', 'E26', 'E26', 'E26'])\n",
      " list(['E5', 'E5', 'E5', 'E22', 'E11', 'E9', 'E11', 'E9', 'E11', 'E9', 'E26', 'E26', 'E26', 'E23', 'E23', 'E23', 'E21', 'E21', 'E21'])\n",
      " ...\n",
      " list(['E5', 'E22', 'E5', 'E5', 'E11', 'E9', 'E11', 'E9', 'E26', 'E26', 'E11', 'E9', 'E26', 'E4', 'E4', 'E3', 'E2', 'E23', 'E23', 'E23', 'E21', 'E21', 'E21'])\n",
      " list(['E5', 'E5', 'E22', 'E5', 'E11', 'E9', 'E11', 'E9', 'E26', 'E26', 'E11', 'E9', 'E26', 'E23', 'E23', 'E23', 'E21', 'E21', 'E21'])\n",
      " list(['E5', 'E5', 'E5', 'E22', 'E11', 'E9', 'E11', 'E9', 'E11', 'E9', 'E26', 'E26', 'E26', 'E23', 'E23', 'E23', 'E21', 'E21', 'E21'])]\n",
      "y_data\n",
      "[0 0 0 ... 0 0 0]\n"
     ]
    }
   ],
   "source": [
    "lst = data.files\n",
    "for item in lst:\n",
    "    print(item)\n",
    "    print(data[item])"
   ]
  },
  {
   "cell_type": "code",
   "execution_count": null,
   "id": "c4ab4ec9",
   "metadata": {},
   "outputs": [],
   "source": []
  },
  {
   "cell_type": "code",
   "execution_count": 2,
   "id": "3d2d381e",
   "metadata": {},
   "outputs": [],
   "source": [
    "df = pd.read_csv(\"./HDFS_v1/preprocessed/Event_traces.csv\")"
   ]
  },
  {
   "cell_type": "code",
   "execution_count": 3,
   "id": "bff6c082",
   "metadata": {},
   "outputs": [
    {
     "data": {
      "text/plain": [
       "268"
      ]
     },
     "execution_count": 3,
     "metadata": {},
     "output_type": "execute_result"
    }
   ],
   "source": [
    "len(eval(df[\"TimeInterval\"][0]))"
   ]
  },
  {
   "cell_type": "code",
   "execution_count": 5,
   "id": "123ef534",
   "metadata": {},
   "outputs": [
    {
     "data": {
      "text/plain": [
       "'[0.0, 1.0, 0.0, 0.0, 0.0, 0.0, 0.0, 0.0, 0.0, 0.0, 0.0, 0.0, 2.0, 0.0, 0.0, 0.0, 0.0, 0.0, 0.0, 0.0, 0.0, 2.0, 1.0, 2.0, 0.0, 0.0, 0.0, 0.0, 0.0, 0.0, 0.0, 1.0, 0.0, 0.0, 0.0, 0.0, 0.0, 0.0, 0.0, 0.0, 0.0, 0.0, 0.0, 0.0, 0.0, 0.0, 0.0, 1.0, 0.0, 0.0, 0.0, 0.0, 0.0, 0.0, 0.0, 0.0, 0.0, 0.0, 0.0, 0.0, 0.0, 0.0, 0.0, 0.0, 0.0, 1.0, 0.0, 0.0, 0.0, 0.0, 0.0, 0.0, 0.0, 0.0, 0.0, 0.0, 0.0, 0.0, 0.0, 0.0, 0.0, 0.0, 0.0, 0.0, 0.0, 0.0, 1.0, 0.0, 0.0, 0.0, 0.0, 0.0, 0.0, 0.0, 0.0, 0.0, 0.0, 0.0, 0.0, 0.0, 0.0, 0.0, 0.0, 0.0, 0.0, 0.0, 0.0, 0.0, 0.0, 0.0, 0.0, 1.0, 0.0, 0.0, 0.0, 0.0, 0.0, 0.0, 0.0, 0.0, 0.0, 0.0, 0.0, 0.0, 0.0, 0.0, 0.0, 0.0, 0.0, 0.0, 0.0, 0.0, 0.0, 0.0, 0.0, 0.0, 0.0, 0.0, 0.0, 0.0, 0.0, 0.0, 0.0, 0.0, 0.0, 0.0, 0.0, 0.0, 0.0, 1.0, 0.0, 0.0, 0.0, 0.0, 0.0, 0.0, 0.0, 0.0, 0.0, 0.0, 0.0, 0.0, 1.0, 0.0, 0.0, 0.0, 0.0, 0.0, 0.0, 0.0, 0.0, 0.0, 0.0, 0.0, 0.0, 0.0, 0.0, 0.0, 1.0, 0.0, 0.0, 0.0, 0.0, 0.0, 0.0, 0.0, 0.0, 0.0, 1.0, 0.0, 0.0, 0.0, 0.0, 0.0, 0.0, 0.0, 0.0, 0.0, 0.0, 0.0, 0.0, 0.0, 0.0, 0.0, 0.0, 0.0, 0.0, 0.0, 0.0, 0.0, 0.0, 1.0, 0.0, 0.0, 0.0, 0.0, 0.0, 0.0, 0.0, 0.0, 0.0, 0.0, 0.0, 0.0, 0.0, 1.0, 0.0, 0.0, 1.0, 0.0, 1.0, 0.0, 0.0, 0.0, 1.0, 0.0, 0.0, 0.0, 0.0, 0.0, 1.0, 0.0, 0.0, 1.0, 3.0, 0.0, 1.0, 40.0, 3703.0, 0.0, 0.0, 0.0, 0.0, 0.0, 0.0, 0.0, 0.0, 0.0, 1.0, 1.0, 1.0, 1.0, 0.0, 25.0, 1.0, 0.0, 0.0, 1.0]'"
      ]
     },
     "execution_count": 5,
     "metadata": {},
     "output_type": "execute_result"
    }
   ],
   "source": [
    "df[\"TimeInterval\"][0]"
   ]
  },
  {
   "cell_type": "code",
   "execution_count": 4,
   "id": "a04ebbd0",
   "metadata": {},
   "outputs": [
    {
     "data": {
      "text/plain": [
       "'[E5,E22,E5,E5,E11,E11,E9,E9,E11,E9,E26,E26,E26,E6,E5,E16,E6,E5,E18,E25,E26,E26,E3,E25,E6,E6,E5,E5,E16,E18,E26,E26,E5,E6,E5,E16,E3,E3,E3,E3,E3,E3,E3,E3,E3,E3,E18,E25,E6,E3,E3,E3,E3,E3,E3,E3,E3,E3,E3,E3,E3,E3,E3,E3,E26,E26,E3,E3,E3,E3,E3,E3,E3,E3,E3,E3,E3,E3,E3,E3,E3,E3,E3,E3,E3,E3,E3,E3,E3,E3,E3,E3,E3,E3,E3,E3,E3,E3,E3,E3,E3,E3,E3,E3,E3,E3,E3,E3,E3,E3,E3,E25,E3,E3,E3,E3,E3,E3,E3,E3,E3,E3,E3,E3,E3,E3,E3,E3,E3,E3,E3,E3,E3,E3,E3,E3,E3,E3,E3,E3,E3,E3,E3,E3,E3,E3,E3,E3,E3,E18,E6,E5,E3,E3,E3,E3,E3,E16,E3,E3,E3,E3,E26,E3,E3,E3,E3,E3,E3,E3,E3,E3,E3,E3,E3,E3,E3,E3,E3,E3,E3,E3,E3,E3,E3,E3,E3,E3,E3,E3,E3,E3,E3,E3,E3,E3,E3,E3,E3,E3,E3,E3,E3,E3,E3,E3,E3,E3,E3,E3,E3,E3,E3,E3,E3,E3,E3,E3,E3,E3,E3,E3,E3,E3,E3,E3,E3,E3,E3,E3,E3,E3,E3,E3,E3,E3,E3,E3,E3,E3,E3,E3,E3,E3,E3,E3,E3,E3,E3,E23,E23,E23,E23,E23,E23,E23,E23,E23,E23,E21,E21,E21,E21,E21,E21,E21,E21,E21,E21]'"
      ]
     },
     "execution_count": 4,
     "metadata": {},
     "output_type": "execute_result"
    }
   ],
   "source": [
    "df[\"Features\"][0]"
   ]
  },
  {
   "cell_type": "code",
   "execution_count": 30,
   "id": "750a72d2",
   "metadata": {
    "scrolled": true
   },
   "outputs": [
    {
     "data": {
      "text/plain": [
       "array([558223,  16838], dtype=int64)"
      ]
     },
     "execution_count": 30,
     "metadata": {},
     "output_type": "execute_result"
    }
   ],
   "source": [
    "np.bincount(data[\"y_data\"])"
   ]
  },
  {
   "cell_type": "code",
   "execution_count": 25,
   "id": "506f22ca",
   "metadata": {},
   "outputs": [
    {
     "data": {
      "text/html": [
       "<div>\n",
       "<style scoped>\n",
       "    .dataframe tbody tr th:only-of-type {\n",
       "        vertical-align: middle;\n",
       "    }\n",
       "\n",
       "    .dataframe tbody tr th {\n",
       "        vertical-align: top;\n",
       "    }\n",
       "\n",
       "    .dataframe thead th {\n",
       "        text-align: right;\n",
       "    }\n",
       "</style>\n",
       "<table border=\"1\" class=\"dataframe\">\n",
       "  <thead>\n",
       "    <tr style=\"text-align: right;\">\n",
       "      <th></th>\n",
       "      <th>BlockId</th>\n",
       "      <th>Label</th>\n",
       "      <th>Type</th>\n",
       "      <th>Features</th>\n",
       "      <th>TimeInterval</th>\n",
       "      <th>Latency</th>\n",
       "    </tr>\n",
       "  </thead>\n",
       "  <tbody>\n",
       "    <tr>\n",
       "      <th>0</th>\n",
       "      <td>blk_-1608999687919862906</td>\n",
       "      <td>Success</td>\n",
       "      <td>NaN</td>\n",
       "      <td>[E5,E22,E5,E5,E11,E11,E9,E9,E11,E9,E26,E26,E26...</td>\n",
       "      <td>[0.0, 1.0, 0.0, 0.0, 0.0, 0.0, 0.0, 0.0, 0.0, ...</td>\n",
       "      <td>3802</td>\n",
       "    </tr>\n",
       "    <tr>\n",
       "      <th>1</th>\n",
       "      <td>blk_7503483334202473044</td>\n",
       "      <td>Success</td>\n",
       "      <td>NaN</td>\n",
       "      <td>[E5,E5,E22,E5,E11,E9,E11,E9,E11,E9,E26,E26,E26...</td>\n",
       "      <td>[0.0, 0.0, 1.0, 0.0, 0.0, 0.0, 0.0, 0.0, 0.0, ...</td>\n",
       "      <td>3802</td>\n",
       "    </tr>\n",
       "    <tr>\n",
       "      <th>2</th>\n",
       "      <td>blk_-3544583377289625738</td>\n",
       "      <td>Fail</td>\n",
       "      <td>21.0</td>\n",
       "      <td>[E5,E22,E5,E5,E11,E9,E11,E9,E11,E9,E3,E26,E26,...</td>\n",
       "      <td>[0.0, 1.0, 0.0, 0.0, 0.0, 1.0, 0.0, 0.0, 0.0, ...</td>\n",
       "      <td>3797</td>\n",
       "    </tr>\n",
       "    <tr>\n",
       "      <th>3</th>\n",
       "      <td>blk_-9073992586687739851</td>\n",
       "      <td>Success</td>\n",
       "      <td>NaN</td>\n",
       "      <td>[E5,E22,E5,E5,E11,E9,E11,E9,E11,E9,E26,E26,E26...</td>\n",
       "      <td>[0.0, 1.0, 0.0, 0.0, 0.0, 0.0, 0.0, 0.0, 0.0, ...</td>\n",
       "      <td>50448</td>\n",
       "    </tr>\n",
       "    <tr>\n",
       "      <th>4</th>\n",
       "      <td>blk_7854771516489510256</td>\n",
       "      <td>Success</td>\n",
       "      <td>NaN</td>\n",
       "      <td>[E5,E5,E22,E5,E11,E9,E11,E9,E11,E9,E26,E26,E26...</td>\n",
       "      <td>[0.0, 0.0, 1.0, 48.0, 0.0, 0.0, 0.0, 0.0, 0.0,...</td>\n",
       "      <td>50583</td>\n",
       "    </tr>\n",
       "    <tr>\n",
       "      <th>...</th>\n",
       "      <td>...</td>\n",
       "      <td>...</td>\n",
       "      <td>...</td>\n",
       "      <td>...</td>\n",
       "      <td>...</td>\n",
       "      <td>...</td>\n",
       "    </tr>\n",
       "    <tr>\n",
       "      <th>575056</th>\n",
       "      <td>blk_1019720114020043203</td>\n",
       "      <td>Success</td>\n",
       "      <td>NaN</td>\n",
       "      <td>[E5,E22,E5,E5,E26,E11,E9,E11,E9,E11,E9,E26,E26...</td>\n",
       "      <td>[0.0, 1.0, 0.0, 10.0, 0.0, 0.0, 0.0, 0.0, 0.0,...</td>\n",
       "      <td>128</td>\n",
       "    </tr>\n",
       "    <tr>\n",
       "      <th>575057</th>\n",
       "      <td>blk_-2683116845478050414</td>\n",
       "      <td>Success</td>\n",
       "      <td>NaN</td>\n",
       "      <td>[E5,E22,E5,E5,E11,E9,E26,E11,E9,E11,E9,E26,E26...</td>\n",
       "      <td>[0.0, 0.0, 0.0, 14.0, 0.0, 0.0, 0.0, 0.0, 0.0,...</td>\n",
       "      <td>120</td>\n",
       "    </tr>\n",
       "    <tr>\n",
       "      <th>575058</th>\n",
       "      <td>blk_5595059397348477632</td>\n",
       "      <td>Success</td>\n",
       "      <td>NaN</td>\n",
       "      <td>[E5,E5,E5,E22,E11,E9,E11,E9,E11,E9,E26,E26,E26...</td>\n",
       "      <td>[0.0, 0.0, 0.0, 10.0, 0.0, 0.0, 0.0, 0.0, 0.0,...</td>\n",
       "      <td>111</td>\n",
       "    </tr>\n",
       "    <tr>\n",
       "      <th>575059</th>\n",
       "      <td>blk_1513937873877967730</td>\n",
       "      <td>Success</td>\n",
       "      <td>NaN</td>\n",
       "      <td>[E5,E5,E5,E22,E11,E9,E11,E9,E11,E9,E26,E26,E26...</td>\n",
       "      <td>[0.0, 0.0, 0.0, 1.0, 0.0, 0.0, 0.0, 0.0, 0.0, ...</td>\n",
       "      <td>106</td>\n",
       "    </tr>\n",
       "    <tr>\n",
       "      <th>575060</th>\n",
       "      <td>blk_-9128742458709757181</td>\n",
       "      <td>Fail</td>\n",
       "      <td>4.0</td>\n",
       "      <td>[E5,E5,E5,E22,E11,E9,E11,E9,E11,E9,E28,E26,E28...</td>\n",
       "      <td>[0.0, 0.0, 0.0, 10.0, 0.0, 0.0, 0.0, 0.0, 0.0,...</td>\n",
       "      <td>131</td>\n",
       "    </tr>\n",
       "  </tbody>\n",
       "</table>\n",
       "<p>575061 rows × 6 columns</p>\n",
       "</div>"
      ],
      "text/plain": [
       "                         BlockId    Label  Type  \\\n",
       "0       blk_-1608999687919862906  Success   NaN   \n",
       "1        blk_7503483334202473044  Success   NaN   \n",
       "2       blk_-3544583377289625738     Fail  21.0   \n",
       "3       blk_-9073992586687739851  Success   NaN   \n",
       "4        blk_7854771516489510256  Success   NaN   \n",
       "...                          ...      ...   ...   \n",
       "575056   blk_1019720114020043203  Success   NaN   \n",
       "575057  blk_-2683116845478050414  Success   NaN   \n",
       "575058   blk_5595059397348477632  Success   NaN   \n",
       "575059   blk_1513937873877967730  Success   NaN   \n",
       "575060  blk_-9128742458709757181     Fail   4.0   \n",
       "\n",
       "                                                 Features  \\\n",
       "0       [E5,E22,E5,E5,E11,E11,E9,E9,E11,E9,E26,E26,E26...   \n",
       "1       [E5,E5,E22,E5,E11,E9,E11,E9,E11,E9,E26,E26,E26...   \n",
       "2       [E5,E22,E5,E5,E11,E9,E11,E9,E11,E9,E3,E26,E26,...   \n",
       "3       [E5,E22,E5,E5,E11,E9,E11,E9,E11,E9,E26,E26,E26...   \n",
       "4       [E5,E5,E22,E5,E11,E9,E11,E9,E11,E9,E26,E26,E26...   \n",
       "...                                                   ...   \n",
       "575056  [E5,E22,E5,E5,E26,E11,E9,E11,E9,E11,E9,E26,E26...   \n",
       "575057  [E5,E22,E5,E5,E11,E9,E26,E11,E9,E11,E9,E26,E26...   \n",
       "575058  [E5,E5,E5,E22,E11,E9,E11,E9,E11,E9,E26,E26,E26...   \n",
       "575059  [E5,E5,E5,E22,E11,E9,E11,E9,E11,E9,E26,E26,E26...   \n",
       "575060  [E5,E5,E5,E22,E11,E9,E11,E9,E11,E9,E28,E26,E28...   \n",
       "\n",
       "                                             TimeInterval  Latency  \n",
       "0       [0.0, 1.0, 0.0, 0.0, 0.0, 0.0, 0.0, 0.0, 0.0, ...     3802  \n",
       "1       [0.0, 0.0, 1.0, 0.0, 0.0, 0.0, 0.0, 0.0, 0.0, ...     3802  \n",
       "2       [0.0, 1.0, 0.0, 0.0, 0.0, 1.0, 0.0, 0.0, 0.0, ...     3797  \n",
       "3       [0.0, 1.0, 0.0, 0.0, 0.0, 0.0, 0.0, 0.0, 0.0, ...    50448  \n",
       "4       [0.0, 0.0, 1.0, 48.0, 0.0, 0.0, 0.0, 0.0, 0.0,...    50583  \n",
       "...                                                   ...      ...  \n",
       "575056  [0.0, 1.0, 0.0, 10.0, 0.0, 0.0, 0.0, 0.0, 0.0,...      128  \n",
       "575057  [0.0, 0.0, 0.0, 14.0, 0.0, 0.0, 0.0, 0.0, 0.0,...      120  \n",
       "575058  [0.0, 0.0, 0.0, 10.0, 0.0, 0.0, 0.0, 0.0, 0.0,...      111  \n",
       "575059  [0.0, 0.0, 0.0, 1.0, 0.0, 0.0, 0.0, 0.0, 0.0, ...      106  \n",
       "575060  [0.0, 0.0, 0.0, 10.0, 0.0, 0.0, 0.0, 0.0, 0.0,...      131  \n",
       "\n",
       "[575061 rows x 6 columns]"
      ]
     },
     "execution_count": 25,
     "metadata": {},
     "output_type": "execute_result"
    }
   ],
   "source": [
    "df"
   ]
  },
  {
   "cell_type": "code",
   "execution_count": 29,
   "id": "5510c4d1",
   "metadata": {},
   "outputs": [
    {
     "data": {
      "text/plain": [
       "(575061,)"
      ]
     },
     "execution_count": 29,
     "metadata": {},
     "output_type": "execute_result"
    }
   ],
   "source": [
    "df[\"BlockId\"].unique().shape"
   ]
  },
  {
   "cell_type": "code",
   "execution_count": 36,
   "id": "46f6a5db",
   "metadata": {},
   "outputs": [
    {
     "data": {
      "text/plain": [
       "Label\n",
       "Success    558223\n",
       "Fail        16838\n",
       "Name: count, dtype: int64"
      ]
     },
     "execution_count": 36,
     "metadata": {},
     "output_type": "execute_result"
    }
   ],
   "source": [
    "df[\"Label\"].value_counts()"
   ]
  },
  {
   "cell_type": "code",
   "execution_count": null,
   "id": "969f2d7d",
   "metadata": {},
   "outputs": [],
   "source": []
  }
 ],
 "metadata": {
  "kernelspec": {
   "display_name": "Python 3 (ipykernel)",
   "language": "python",
   "name": "python3"
  },
  "language_info": {
   "codemirror_mode": {
    "name": "ipython",
    "version": 3
   },
   "file_extension": ".py",
   "mimetype": "text/x-python",
   "name": "python",
   "nbconvert_exporter": "python",
   "pygments_lexer": "ipython3",
   "version": "3.10.4"
  }
 },
 "nbformat": 4,
 "nbformat_minor": 5
}
