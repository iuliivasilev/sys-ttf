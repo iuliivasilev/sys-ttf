{
 "cells": [
  {
   "cell_type": "code",
   "execution_count": 1,
   "id": "7723652b",
   "metadata": {},
   "outputs": [],
   "source": [
    "import pandas as pd\n",
    "import numpy as np\n",
    "\n",
    "import matplotlib.pyplot as plt\n",
    "import seaborn as sns"
   ]
  },
  {
   "cell_type": "markdown",
   "id": "d7a5ff02",
   "metadata": {},
   "source": [
    "https://zenodo.org/records/8196385/files/HDFS_v1.zip?download=1"
   ]
  },
  {
   "cell_type": "code",
   "execution_count": 7,
   "id": "dfa76fcb",
   "metadata": {},
   "outputs": [],
   "source": [
    "data = np.load('./HDFS_v1/preprocessed/HDFS.npz', allow_pickle=True)"
   ]
  },
  {
   "cell_type": "code",
   "execution_count": 10,
   "id": "fc4beb7b",
   "metadata": {},
   "outputs": [
    {
     "name": "stdout",
     "output_type": "stream",
     "text": [
      "x_data\n",
      "[list(['E5', 'E5', 'E5', 'E22', 'E11', 'E9', 'E11', 'E11', 'E9', 'E9', 'E26', 'E26', 'E26'])\n",
      " list(['E5', 'E22', 'E5', 'E5', 'E11', 'E9', 'E11', 'E9', 'E11', 'E9', 'E26', 'E26', 'E26'])\n",
      " list(['E5', 'E5', 'E5', 'E22', 'E11', 'E9', 'E11', 'E9', 'E11', 'E9', 'E26', 'E26', 'E26', 'E23', 'E23', 'E23', 'E21', 'E21', 'E21'])\n",
      " ...\n",
      " list(['E5', 'E22', 'E5', 'E5', 'E11', 'E9', 'E11', 'E9', 'E26', 'E26', 'E11', 'E9', 'E26', 'E4', 'E4', 'E3', 'E2', 'E23', 'E23', 'E23', 'E21', 'E21', 'E21'])\n",
      " list(['E5', 'E5', 'E22', 'E5', 'E11', 'E9', 'E11', 'E9', 'E26', 'E26', 'E11', 'E9', 'E26', 'E23', 'E23', 'E23', 'E21', 'E21', 'E21'])\n",
      " list(['E5', 'E5', 'E5', 'E22', 'E11', 'E9', 'E11', 'E9', 'E11', 'E9', 'E26', 'E26', 'E26', 'E23', 'E23', 'E23', 'E21', 'E21', 'E21'])]\n",
      "y_data\n",
      "[0 0 0 ... 0 0 0]\n"
     ]
    }
   ],
   "source": [
    "lst = data.files\n",
    "for item in lst:\n",
    "    print(item)\n",
    "    print(data[item])"
   ]
  },
  {
   "cell_type": "code",
   "execution_count": null,
   "id": "c4ab4ec9",
   "metadata": {},
   "outputs": [],
   "source": []
  },
  {
   "cell_type": "code",
   "execution_count": 2,
   "id": "3d2d381e",
   "metadata": {},
   "outputs": [],
   "source": [
    "df = pd.read_csv(\"./HDFS_v1/preprocessed/Event_traces.csv\")"
   ]
  },
  {
   "cell_type": "code",
   "execution_count": 3,
   "id": "bff6c082",
   "metadata": {},
   "outputs": [
    {
     "data": {
      "text/plain": [
       "268"
      ]
     },
     "execution_count": 3,
     "metadata": {},
     "output_type": "execute_result"
    }
   ],
   "source": [
    "len(eval(df[\"TimeInterval\"][0]))"
   ]
  },
  {
   "cell_type": "code",
   "execution_count": 5,
   "id": "123ef534",
   "metadata": {},
   "outputs": [
    {
     "data": {
      "text/plain": [
       "'[0.0, 1.0, 0.0, 0.0, 0.0, 0.0, 0.0, 0.0, 0.0, 0.0, 0.0, 0.0, 2.0, 0.0, 0.0, 0.0, 0.0, 0.0, 0.0, 0.0, 0.0, 2.0, 1.0, 2.0, 0.0, 0.0, 0.0, 0.0, 0.0, 0.0, 0.0, 1.0, 0.0, 0.0, 0.0, 0.0, 0.0, 0.0, 0.0, 0.0, 0.0, 0.0, 0.0, 0.0, 0.0, 0.0, 0.0, 1.0, 0.0, 0.0, 0.0, 0.0, 0.0, 0.0, 0.0, 0.0, 0.0, 0.0, 0.0, 0.0, 0.0, 0.0, 0.0, 0.0, 0.0, 1.0, 0.0, 0.0, 0.0, 0.0, 0.0, 0.0, 0.0, 0.0, 0.0, 0.0, 0.0, 0.0, 0.0, 0.0, 0.0, 0.0, 0.0, 0.0, 0.0, 0.0, 1.0, 0.0, 0.0, 0.0, 0.0, 0.0, 0.0, 0.0, 0.0, 0.0, 0.0, 0.0, 0.0, 0.0, 0.0, 0.0, 0.0, 0.0, 0.0, 0.0, 0.0, 0.0, 0.0, 0.0, 0.0, 1.0, 0.0, 0.0, 0.0, 0.0, 0.0, 0.0, 0.0, 0.0, 0.0, 0.0, 0.0, 0.0, 0.0, 0.0, 0.0, 0.0, 0.0, 0.0, 0.0, 0.0, 0.0, 0.0, 0.0, 0.0, 0.0, 0.0, 0.0, 0.0, 0.0, 0.0, 0.0, 0.0, 0.0, 0.0, 0.0, 0.0, 0.0, 1.0, 0.0, 0.0, 0.0, 0.0, 0.0, 0.0, 0.0, 0.0, 0.0, 0.0, 0.0, 0.0, 1.0, 0.0, 0.0, 0.0, 0.0, 0.0, 0.0, 0.0, 0.0, 0.0, 0.0, 0.0, 0.0, 0.0, 0.0, 0.0, 1.0, 0.0, 0.0, 0.0, 0.0, 0.0, 0.0, 0.0, 0.0, 0.0, 1.0, 0.0, 0.0, 0.0, 0.0, 0.0, 0.0, 0.0, 0.0, 0.0, 0.0, 0.0, 0.0, 0.0, 0.0, 0.0, 0.0, 0.0, 0.0, 0.0, 0.0, 0.0, 0.0, 1.0, 0.0, 0.0, 0.0, 0.0, 0.0, 0.0, 0.0, 0.0, 0.0, 0.0, 0.0, 0.0, 0.0, 1.0, 0.0, 0.0, 1.0, 0.0, 1.0, 0.0, 0.0, 0.0, 1.0, 0.0, 0.0, 0.0, 0.0, 0.0, 1.0, 0.0, 0.0, 1.0, 3.0, 0.0, 1.0, 40.0, 3703.0, 0.0, 0.0, 0.0, 0.0, 0.0, 0.0, 0.0, 0.0, 0.0, 1.0, 1.0, 1.0, 1.0, 0.0, 25.0, 1.0, 0.0, 0.0, 1.0]'"
      ]
     },
     "execution_count": 5,
     "metadata": {},
     "output_type": "execute_result"
    }
   ],
   "source": [
    "df[\"TimeInterval\"][0]"
   ]
  },
  {
   "cell_type": "code",
   "execution_count": 4,
   "id": "a04ebbd0",
   "metadata": {},
   "outputs": [
    {
     "data": {
      "text/plain": [
       "'[E5,E22,E5,E5,E11,E11,E9,E9,E11,E9,E26,E26,E26,E6,E5,E16,E6,E5,E18,E25,E26,E26,E3,E25,E6,E6,E5,E5,E16,E18,E26,E26,E5,E6,E5,E16,E3,E3,E3,E3,E3,E3,E3,E3,E3,E3,E18,E25,E6,E3,E3,E3,E3,E3,E3,E3,E3,E3,E3,E3,E3,E3,E3,E3,E26,E26,E3,E3,E3,E3,E3,E3,E3,E3,E3,E3,E3,E3,E3,E3,E3,E3,E3,E3,E3,E3,E3,E3,E3,E3,E3,E3,E3,E3,E3,E3,E3,E3,E3,E3,E3,E3,E3,E3,E3,E3,E3,E3,E3,E3,E3,E25,E3,E3,E3,E3,E3,E3,E3,E3,E3,E3,E3,E3,E3,E3,E3,E3,E3,E3,E3,E3,E3,E3,E3,E3,E3,E3,E3,E3,E3,E3,E3,E3,E3,E3,E3,E3,E3,E18,E6,E5,E3,E3,E3,E3,E3,E16,E3,E3,E3,E3,E26,E3,E3,E3,E3,E3,E3,E3,E3,E3,E3,E3,E3,E3,E3,E3,E3,E3,E3,E3,E3,E3,E3,E3,E3,E3,E3,E3,E3,E3,E3,E3,E3,E3,E3,E3,E3,E3,E3,E3,E3,E3,E3,E3,E3,E3,E3,E3,E3,E3,E3,E3,E3,E3,E3,E3,E3,E3,E3,E3,E3,E3,E3,E3,E3,E3,E3,E3,E3,E3,E3,E3,E3,E3,E3,E3,E3,E3,E3,E3,E3,E3,E3,E3,E3,E3,E3,E23,E23,E23,E23,E23,E23,E23,E23,E23,E23,E21,E21,E21,E21,E21,E21,E21,E21,E21,E21]'"
      ]
     },
     "execution_count": 4,
     "metadata": {},
     "output_type": "execute_result"
    }
   ],
   "source": [
    "df[\"Features\"][0]"
   ]
  },
  {
   "cell_type": "code",
   "execution_count": 30,
   "id": "750a72d2",
   "metadata": {
    "scrolled": true
   },
   "outputs": [
    {
     "data": {
      "text/plain": [
       "array([558223,  16838], dtype=int64)"
      ]
     },
     "execution_count": 30,
     "metadata": {},
     "output_type": "execute_result"
    }
   ],
   "source": [
    "np.bincount(data[\"y_data\"])"
   ]
  },
  {
   "cell_type": "code",
   "execution_count": 25,
   "id": "506f22ca",
   "metadata": {},
   "outputs": [
    {
     "data": {
      "text/html": [
       "<div>\n",
       "<style scoped>\n",
       "    .dataframe tbody tr th:only-of-type {\n",
       "        vertical-align: middle;\n",
       "    }\n",
       "\n",
       "    .dataframe tbody tr th {\n",
       "        vertical-align: top;\n",
       "    }\n",
       "\n",
       "    .dataframe thead th {\n",
       "        text-align: right;\n",
       "    }\n",
       "</style>\n",
       "<table border=\"1\" class=\"dataframe\">\n",
       "  <thead>\n",
       "    <tr style=\"text-align: right;\">\n",
       "      <th></th>\n",
       "      <th>BlockId</th>\n",
       "      <th>Label</th>\n",
       "      <th>Type</th>\n",
       "      <th>Features</th>\n",
       "      <th>TimeInterval</th>\n",
       "      <th>Latency</th>\n",
       "    </tr>\n",
       "  </thead>\n",
       "  <tbody>\n",
       "    <tr>\n",
       "      <th>0</th>\n",
       "      <td>blk_-1608999687919862906</td>\n",
       "      <td>Success</td>\n",
       "      <td>NaN</td>\n",
       "      <td>[E5,E22,E5,E5,E11,E11,E9,E9,E11,E9,E26,E26,E26...</td>\n",
       "      <td>[0.0, 1.0, 0.0, 0.0, 0.0, 0.0, 0.0, 0.0, 0.0, ...</td>\n",
       "      <td>3802</td>\n",
       "    </tr>\n",
       "    <tr>\n",
       "      <th>1</th>\n",
       "      <td>blk_7503483334202473044</td>\n",
       "      <td>Success</td>\n",
       "      <td>NaN</td>\n",
       "      <td>[E5,E5,E22,E5,E11,E9,E11,E9,E11,E9,E26,E26,E26...</td>\n",
       "      <td>[0.0, 0.0, 1.0, 0.0, 0.0, 0.0, 0.0, 0.0, 0.0, ...</td>\n",
       "      <td>3802</td>\n",
       "    </tr>\n",
       "    <tr>\n",
       "      <th>2</th>\n",
       "      <td>blk_-3544583377289625738</td>\n",
       "      <td>Fail</td>\n",
       "      <td>21.0</td>\n",
       "      <td>[E5,E22,E5,E5,E11,E9,E11,E9,E11,E9,E3,E26,E26,...</td>\n",
       "      <td>[0.0, 1.0, 0.0, 0.0, 0.0, 1.0, 0.0, 0.0, 0.0, ...</td>\n",
       "      <td>3797</td>\n",
       "    </tr>\n",
       "    <tr>\n",
       "      <th>3</th>\n",
       "      <td>blk_-9073992586687739851</td>\n",
       "      <td>Success</td>\n",
       "      <td>NaN</td>\n",
       "      <td>[E5,E22,E5,E5,E11,E9,E11,E9,E11,E9,E26,E26,E26...</td>\n",
       "      <td>[0.0, 1.0, 0.0, 0.0, 0.0, 0.0, 0.0, 0.0, 0.0, ...</td>\n",
       "      <td>50448</td>\n",
       "    </tr>\n",
       "    <tr>\n",
       "      <th>4</th>\n",
       "      <td>blk_7854771516489510256</td>\n",
       "      <td>Success</td>\n",
       "      <td>NaN</td>\n",
       "      <td>[E5,E5,E22,E5,E11,E9,E11,E9,E11,E9,E26,E26,E26...</td>\n",
       "      <td>[0.0, 0.0, 1.0, 48.0, 0.0, 0.0, 0.0, 0.0, 0.0,...</td>\n",
       "      <td>50583</td>\n",
       "    </tr>\n",
       "    <tr>\n",
       "      <th>...</th>\n",
       "      <td>...</td>\n",
       "      <td>...</td>\n",
       "      <td>...</td>\n",
       "      <td>...</td>\n",
       "      <td>...</td>\n",
       "      <td>...</td>\n",
       "    </tr>\n",
       "    <tr>\n",
       "      <th>575056</th>\n",
       "      <td>blk_1019720114020043203</td>\n",
       "      <td>Success</td>\n",
       "      <td>NaN</td>\n",
       "      <td>[E5,E22,E5,E5,E26,E11,E9,E11,E9,E11,E9,E26,E26...</td>\n",
       "      <td>[0.0, 1.0, 0.0, 10.0, 0.0, 0.0, 0.0, 0.0, 0.0,...</td>\n",
       "      <td>128</td>\n",
       "    </tr>\n",
       "    <tr>\n",
       "      <th>575057</th>\n",
       "      <td>blk_-2683116845478050414</td>\n",
       "      <td>Success</td>\n",
       "      <td>NaN</td>\n",
       "      <td>[E5,E22,E5,E5,E11,E9,E26,E11,E9,E11,E9,E26,E26...</td>\n",
       "      <td>[0.0, 0.0, 0.0, 14.0, 0.0, 0.0, 0.0, 0.0, 0.0,...</td>\n",
       "      <td>120</td>\n",
       "    </tr>\n",
       "    <tr>\n",
       "      <th>575058</th>\n",
       "      <td>blk_5595059397348477632</td>\n",
       "      <td>Success</td>\n",
       "      <td>NaN</td>\n",
       "      <td>[E5,E5,E5,E22,E11,E9,E11,E9,E11,E9,E26,E26,E26...</td>\n",
       "      <td>[0.0, 0.0, 0.0, 10.0, 0.0, 0.0, 0.0, 0.0, 0.0,...</td>\n",
       "      <td>111</td>\n",
       "    </tr>\n",
       "    <tr>\n",
       "      <th>575059</th>\n",
       "      <td>blk_1513937873877967730</td>\n",
       "      <td>Success</td>\n",
       "      <td>NaN</td>\n",
       "      <td>[E5,E5,E5,E22,E11,E9,E11,E9,E11,E9,E26,E26,E26...</td>\n",
       "      <td>[0.0, 0.0, 0.0, 1.0, 0.0, 0.0, 0.0, 0.0, 0.0, ...</td>\n",
       "      <td>106</td>\n",
       "    </tr>\n",
       "    <tr>\n",
       "      <th>575060</th>\n",
       "      <td>blk_-9128742458709757181</td>\n",
       "      <td>Fail</td>\n",
       "      <td>4.0</td>\n",
       "      <td>[E5,E5,E5,E22,E11,E9,E11,E9,E11,E9,E28,E26,E28...</td>\n",
       "      <td>[0.0, 0.0, 0.0, 10.0, 0.0, 0.0, 0.0, 0.0, 0.0,...</td>\n",
       "      <td>131</td>\n",
       "    </tr>\n",
       "  </tbody>\n",
       "</table>\n",
       "<p>575061 rows × 6 columns</p>\n",
       "</div>"
      ],
      "text/plain": [
       "                         BlockId    Label  Type  \\\n",
       "0       blk_-1608999687919862906  Success   NaN   \n",
       "1        blk_7503483334202473044  Success   NaN   \n",
       "2       blk_-3544583377289625738     Fail  21.0   \n",
       "3       blk_-9073992586687739851  Success   NaN   \n",
       "4        blk_7854771516489510256  Success   NaN   \n",
       "...                          ...      ...   ...   \n",
       "575056   blk_1019720114020043203  Success   NaN   \n",
       "575057  blk_-2683116845478050414  Success   NaN   \n",
       "575058   blk_5595059397348477632  Success   NaN   \n",
       "575059   blk_1513937873877967730  Success   NaN   \n",
       "575060  blk_-9128742458709757181     Fail   4.0   \n",
       "\n",
       "                                                 Features  \\\n",
       "0       [E5,E22,E5,E5,E11,E11,E9,E9,E11,E9,E26,E26,E26...   \n",
       "1       [E5,E5,E22,E5,E11,E9,E11,E9,E11,E9,E26,E26,E26...   \n",
       "2       [E5,E22,E5,E5,E11,E9,E11,E9,E11,E9,E3,E26,E26,...   \n",
       "3       [E5,E22,E5,E5,E11,E9,E11,E9,E11,E9,E26,E26,E26...   \n",
       "4       [E5,E5,E22,E5,E11,E9,E11,E9,E11,E9,E26,E26,E26...   \n",
       "...                                                   ...   \n",
       "575056  [E5,E22,E5,E5,E26,E11,E9,E11,E9,E11,E9,E26,E26...   \n",
       "575057  [E5,E22,E5,E5,E11,E9,E26,E11,E9,E11,E9,E26,E26...   \n",
       "575058  [E5,E5,E5,E22,E11,E9,E11,E9,E11,E9,E26,E26,E26...   \n",
       "575059  [E5,E5,E5,E22,E11,E9,E11,E9,E11,E9,E26,E26,E26...   \n",
       "575060  [E5,E5,E5,E22,E11,E9,E11,E9,E11,E9,E28,E26,E28...   \n",
       "\n",
       "                                             TimeInterval  Latency  \n",
       "0       [0.0, 1.0, 0.0, 0.0, 0.0, 0.0, 0.0, 0.0, 0.0, ...     3802  \n",
       "1       [0.0, 0.0, 1.0, 0.0, 0.0, 0.0, 0.0, 0.0, 0.0, ...     3802  \n",
       "2       [0.0, 1.0, 0.0, 0.0, 0.0, 1.0, 0.0, 0.0, 0.0, ...     3797  \n",
       "3       [0.0, 1.0, 0.0, 0.0, 0.0, 0.0, 0.0, 0.0, 0.0, ...    50448  \n",
       "4       [0.0, 0.0, 1.0, 48.0, 0.0, 0.0, 0.0, 0.0, 0.0,...    50583  \n",
       "...                                                   ...      ...  \n",
       "575056  [0.0, 1.0, 0.0, 10.0, 0.0, 0.0, 0.0, 0.0, 0.0,...      128  \n",
       "575057  [0.0, 0.0, 0.0, 14.0, 0.0, 0.0, 0.0, 0.0, 0.0,...      120  \n",
       "575058  [0.0, 0.0, 0.0, 10.0, 0.0, 0.0, 0.0, 0.0, 0.0,...      111  \n",
       "575059  [0.0, 0.0, 0.0, 1.0, 0.0, 0.0, 0.0, 0.0, 0.0, ...      106  \n",
       "575060  [0.0, 0.0, 0.0, 10.0, 0.0, 0.0, 0.0, 0.0, 0.0,...      131  \n",
       "\n",
       "[575061 rows x 6 columns]"
      ]
     },
     "execution_count": 25,
     "metadata": {},
     "output_type": "execute_result"
    }
   ],
   "source": [
    "df"
   ]
  },
  {
   "cell_type": "code",
   "execution_count": 29,
   "id": "5510c4d1",
   "metadata": {},
   "outputs": [
    {
     "data": {
      "text/plain": [
       "(575061,)"
      ]
     },
     "execution_count": 29,
     "metadata": {},
     "output_type": "execute_result"
    }
   ],
   "source": [
    "df[\"BlockId\"].unique().shape"
   ]
  },
  {
   "cell_type": "code",
   "execution_count": 36,
   "id": "46f6a5db",
   "metadata": {},
   "outputs": [
    {
     "data": {
      "text/plain": [
       "Label\n",
       "Success    558223\n",
       "Fail        16838\n",
       "Name: count, dtype: int64"
      ]
     },
     "execution_count": 36,
     "metadata": {},
     "output_type": "execute_result"
    }
   ],
   "source": [
    "df[\"Label\"].value_counts()"
   ]
  },
  {
   "cell_type": "code",
   "execution_count": null,
   "id": "969f2d7d",
   "metadata": {},
   "outputs": [],
   "source": []
  }
 ],
 "metadata": {
  "kernelspec": {
   "display_name": "Python 3 (ipykernel)",
   "language": "python",
   "name": "python3"
  },
  "language_info": {
   "codemirror_mode": {
    "name": "ipython",
    "version": 3
   },
   "file_extension": ".py",
   "mimetype": "text/x-python",
   "name": "python",
   "nbconvert_exporter": "python",
   "pygments_lexer": "ipython3",
   "version": "3.10.4"
  }
 },
 "nbformat": 4,
 "nbformat_minor": 5
}
