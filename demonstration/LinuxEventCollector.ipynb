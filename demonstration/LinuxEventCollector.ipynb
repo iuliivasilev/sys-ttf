{
 "cells": [
  {
   "cell_type": "markdown",
   "id": "2e2a0c3b-f297-4069-9e0d-da51fc87cb1d",
   "metadata": {},
   "source": [
    "### Syslog works only on Linux: \n",
    "#### 1. https://docs.python.org/3/library/syslog.html\n",
    "#### 2. tutorial: https://itsecforu.ru/2022/08/19/📜-syslog-полное-руководство/?ysclid=m2bmlkak8h901575505"
   ]
  },
  {
   "cell_type": "code",
   "execution_count": null,
   "id": "40abb858-5088-410a-a90b-90a746edcca1",
   "metadata": {},
   "outputs": [],
   "source": []
  }
 ],
 "metadata": {
  "kernelspec": {
   "display_name": "Python 3 (ipykernel)",
   "language": "python",
   "name": "python3"
  },
  "language_info": {
   "codemirror_mode": {
    "name": "ipython",
    "version": 3
   },
   "file_extension": ".py",
   "mimetype": "text/x-python",
   "name": "python",
   "nbconvert_exporter": "python",
   "pygments_lexer": "ipython3",
   "version": "3.11.10"
  }
 },
 "nbformat": 4,
 "nbformat_minor": 5
}
